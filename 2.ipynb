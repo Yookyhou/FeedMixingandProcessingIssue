{
 "cells": [
  {
   "cell_type": "markdown",
   "id": "922c40eac080aa5e",
   "metadata": {},
   "source": [
    "## 问题2数学建模过程\n",
    "\n",
    "### 1. 问题描述\n",
    "\n",
    "将16个加工原料进行混合，全部放入9个加工窖中。请建立数学模型，求出饲料质量最高的混合方案，并给出每个加工包的亲缘度。\n",
    "\n",
    "### 2. 数学模型\n",
    "\n",
    "#### 变量定义\n",
    "\n",
    "- **$x_{ij}$**：原料 $i$ 是否分配到加工窖 $j$，$x_{ij} \\in \\{0, 1\\}$，其中 $i \\in \\{1, 2, \\ldots, 16\\}$，$j \\in \\{1, 2, \\ldots, 9\\}$。\n",
    "- **$y_j$**：加工窖 $j$ 是否被使用，$y_j \\in \\{0, 1\\}$，其中 $j \\in \\{1, 2, \\ldots, 9\\}$。\n",
    "- **$a_{ij}$**：原料 $i$ 和原料 $j$ 之间的亲缘值。\n",
    "- **$w_i$**：原料 $i$ 的重量。\n",
    "\n",
    "#### 亲缘值的计算\n",
    "\n",
    "亲缘值 **$a_{ij}$** 定义为原料 $i$ 和原料 $j$ 基因序列中相同位点的数量：\n",
    "\n",
    "$$\n",
    "a_{ij} = \\sum_{k=1}^{10} \\delta(g_i^k, g_j^k)\n",
    "$$\n",
    "\n",
    "其中，**$g_i^k$** 表示原料 $i$ 的第 $k$ 个基因位点，**$\\delta(g_i^k, g_j^k)$** 为指示函数：\n",
    "\n",
    "$$\n",
    "\\delta(g_i^k, g_j^k) = \\begin{cases} \n",
    "1, & \\text{if } g_i^k = g_j^k \\\\\n",
    "0, & \\text{if } g_i^k \\ne g_j^k \n",
    "\\end{cases}\n",
    "$$\n",
    "\n",
    "#### 目标函数\n",
    "\n",
    "最大化饲料的加权亲缘度。每个加工包的亲缘度定义为包中所有原料两两之间亲缘值的平均值。总目标是最大化所有加工包亲缘度的加权平均值。\n",
    "\n",
    "目标函数表示为：\n",
    "\n",
    "$$\n",
    "\\text{Maximize} \\sum_{j=1}^{9} \\left( \\frac{\\sum_{i=1}^{16} \\sum_{k=i+1}^{16} a_{ik} x_{ij} x_{kj}}{\\sum_{i=1}^{16} x_{ij} \\left( \\sum_{k=i+1}^{16} x_{kj} \\right)} \\cdot \\sum_{i=1}^{16} w_i x_{ij} \\right)\n",
    "$$\n",
    "\n",
    "#### 约束条件\n",
    "\n",
    "1. **每种原料必须分配到一个加工窖中**：\n",
    "\n",
    "$$\n",
    "\\sum_{j=1}^{9} x_{ij} = 1 \\quad \\forall i \\in \\{1, 2, \\ldots, 16\\}\n",
    "$$\n",
    "\n",
    "2. **每个加工窖的重量必须在限定范围内**：\n",
    "\n",
    "$$\n",
    "S_j^{\\min} \\leq \\sum_{i=1}^{16} w_i x_{ij} \\leq S_j^{\\max} \\quad \\forall j \\in \\{1, 2, \\ldots, 9\\}\n",
    "$$\n",
    "\n",
    "其中，$S_j^{\\min}$ 和 $S_j^{\\max}$ 分别为加工窖 $j$ 的最小和最大重量。\n",
    "\n",
    "3. **不能将品种代码为10的原料单独放入一个加工包**：\n",
    "\n",
    "$$\n",
    "x_{10, j} + \\sum_{i=1}^{16} x_{ij} \\geq 2y_j \\quad \\forall j \\in \\{1, 2, \\ldots, 9\\}\n",
    "$$\n",
    "\n",
    "4. **每个加工窖必须被使用**：\n",
    "\n",
    "$$\n",
    "\\sum_{i=1}^{16} x_{ij} \\geq y_j \\quad \\forall j \\in \\{1, 2, \\ldots, 9\\}\n",
    "$$\n",
    "\n",
    "### 3. 数学表达式详解\n",
    "\n",
    "1. **变量定义**：\n",
    "    - $x_{ij}$ 表示原料 $i$ 是否分配到加工窖 $j$。若分配则为1，否则为0。\n",
    "    - $y_j$ 表示加工窖 $j$ 是否被使用。若使用则为1，否则为0。\n",
    "    - $a_{ij}$ 表示原料 $i$ 和原料 $j$ 之间的亲缘值。\n",
    "\n",
    "2. **亲缘值计算**：\n",
    "    - 亲缘值 $a_{ij}$ 计算公式：\n",
    "      $$\n",
    "      a_{ij} = \\sum_{k=1}^{10} \\delta(g_i^k, g_j^k)\n",
    "      $$\n",
    "    - 其中 $\\delta(g_i^k, g_j^k)$ 是一个指示函数，当两个基因位点相同时取值1，否则取值0。\n",
    "\n",
    "3. **目标函数**：\n",
    "    - 目标是最大化加权亲缘度。\n",
    "      $$\n",
    "      \\text{Maximize} \\sum_{j=1}^{9} \\left( \\frac{\\sum_{i=1}^{16} \\sum_{k=i+1}^{16} a_{ik} x_{ij} x_{kj}}{\\sum_{i=1}^{16} x_{ij} \\left( \\sum_{k=i+1}^{16} x_{kj} \\right)} \\cdot \\sum_{i=1}^{16} w_i x_{ij} \\right)\n",
    "      $$\n",
    "\n",
    "4. **约束条件**：\n",
    "    - 每种原料必须分配到一个加工窖中：\n",
    "      $$\n",
    "      \\sum_{j=1}^{9} x_{ij} = 1 \\quad \\forall i\n",
    "      $$\n",
    "    - 每个加工窖的重量必须在限定范围内：\n",
    "      $$\n",
    "      S_j^{\\min} \\leq \\sum_{i=1}^{16} w_i x_{ij} \\leq S_j^{\\max} \\quad \\forall j\n",
    "      $$\n",
    "    - 不能将品种代码为10的原料单独放入一个加工包：\n",
    "      $$\n",
    "      x_{10, j} + \\sum_{i=1}^{16} x_{ij} \\geq 2y_j \\quad \\forall j\n",
    "      $$\n",
    "    - 每个加工窖必须被使用：\n",
    "      $$\n",
    "      \\sum_{i=1}^{16} x_{ij} \\geq y_j \\quad \\forall j\n",
    "      $$"
   ]
  },
  {
   "cell_type": "code",
   "execution_count": 1,
   "id": "initial_id",
   "metadata": {
    "ExecuteTime": {
     "end_time": "2024-06-15T09:21:52.429319Z",
     "start_time": "2024-06-15T09:21:52.380056Z"
    },
    "collapsed": true
   },
   "outputs": [],
   "source": [
    "import numpy as np\n",
    "import pulp\n",
    "import warnings\n",
    "warnings.filterwarnings(\"ignore\", category=UserWarning, message=\".*Glyph.*\")\n",
    "\n",
    "# 原料基因数据\n",
    "genes = [\n",
    "    ['a', 'b', 'c', 'd', 'e', 'f', 'g', 'h', 'i', 'j'],\n",
    "    ['a', 'b', 'c', 'd', 'e', 'o', 'p', 'k', 'l', 'm'],\n",
    "    ['f', 'g', 'h', 'a', 'j', 'o', 'p', 'k', 'l', 'm'],\n",
    "    ['f', 'g', 'h', 'i', 'j', 'l', 'p', 'f', 'o', 'p'],\n",
    "    ['f', 'b', 'h', 'd', 'e', 'o', 'p', 'a', 'o', 'z'],\n",
    "    ['r', 'm', 't', 'u', 'q', 'f', 'g', 'a', 'f', 'z'],\n",
    "    ['r', 's', 't', 'u', 'k', 'f', 'g', 'h', 'f', 'c'],\n",
    "    ['r', 's', 't', 'u', 'a', 'b', 'h', 'i', 'j', 'c'],\n",
    "    ['c', 's', 'a', 'f', 'v', 'w', 'a', 'i', 'j', 'c'],\n",
    "    ['b', 'm', 'n', 'i', 'a', 'z', 'h', 'f', 'o', 'z'],\n",
    "    ['m', 'a', 'm', 'e', 'a', 'z', 'a', 'b', 'a', 'b'],\n",
    "    ['m', 'c', 'm', 'e', 'x', 'h', 'a', 'b', 'n', 'a'],\n",
    "    ['b', 'a', 'n', 'y', 'c', 'g', 'm', 'b', 'm', 'b'],\n",
    "    ['m', 'c', 'm', 'y', 'x', 'g', 'm', 'b', 'n', 'b'],\n",
    "    ['b', 'x', 'n', 'i', 'c', 'l', 'b', 'c', 'm', 'p'],\n",
    "    ['c', 'c', 'a', 'f', 'x', 'h', 'b', 'c', 'm', 'j']\n",
    "]\n",
    "\n",
    "weights = [300, 500, 200, 500, 300, 400, 300, 300, 400, 600, 100, 600, 500, 400, 300, 300]\n",
    "\n"
   ]
  },
  {
   "cell_type": "code",
   "execution_count": 2,
   "id": "e4a0a699d7fbd0c3",
   "metadata": {
    "ExecuteTime": {
     "end_time": "2024-06-15T09:21:52.433038Z",
     "start_time": "2024-06-15T09:21:52.429818Z"
    }
   },
   "outputs": [],
   "source": [
    "# 加工窖信息\n",
    "silos = [\n",
    "    {\"id\": 1, \"min_weight\": 300, \"max_weight\": 600, \"fixed_cost\": 400, \"variable_cost\": 2},\n",
    "    {\"id\": 2, \"min_weight\": 300, \"max_weight\": 600, \"fixed_cost\": 400, \"variable_cost\": 2},\n",
    "    {\"id\": 3, \"min_weight\": 300, \"max_weight\": 600, \"fixed_cost\": 400, \"variable_cost\": 2},\n",
    "    {\"id\": 4, \"min_weight\": 600, \"max_weight\": 900, \"fixed_cost\": 500, \"variable_cost\": 1.8},\n",
    "    {\"id\": 5, \"min_weight\": 600, \"max_weight\": 900, \"fixed_cost\": 500, \"variable_cost\": 1.8},\n",
    "    {\"id\": 6, \"min_weight\": 600, \"max_weight\": 900, \"fixed_cost\": 500, \"variable_cost\": 1.8},\n",
    "    {\"id\": 7, \"min_weight\": 900, \"max_weight\": 1200, \"fixed_cost\": 600, \"variable_cost\": 1.6},\n",
    "    {\"id\": 8, \"min_weight\": 900, \"max_weight\": 1200, \"fixed_cost\": 600, \"variable_cost\": 1.6},\n",
    "    {\"id\": 9, \"min_weight\": 900, \"max_weight\": 1200, \"fixed_cost\": 600, \"variable_cost\": 1.6}\n",
    "]"
   ]
  },
  {
   "cell_type": "code",
   "execution_count": 3,
   "id": "2aa9df148e641f33",
   "metadata": {
    "ExecuteTime": {
     "end_time": "2024-06-15T09:21:52.436265Z",
     "start_time": "2024-06-15T09:21:52.433660Z"
    }
   },
   "outputs": [],
   "source": [
    "# 计算亲缘值\n",
    "def calculate_affinity(genome1, genome2):\n",
    "    return sum(g1 == g2 for g1, g2 in zip(genome1, genome2))\n",
    "\n",
    "# 创建亲缘值矩阵\n",
    "affinity_matrix = np.zeros((16, 16))\n",
    "for i in range(16):\n",
    "    for j in range(i + 1, 16):\n",
    "        affinity_matrix[i, j] = calculate_affinity(genes[i], genes[j])\n",
    "        affinity_matrix[j, i] = affinity_matrix[i, j]"
   ]
  },
  {
   "cell_type": "code",
   "execution_count": 4,
   "id": "34e47157959d8dfa",
   "metadata": {
    "ExecuteTime": {
     "end_time": "2024-06-15T09:21:52.441277Z",
     "start_time": "2024-06-15T09:21:52.438805Z"
    }
   },
   "outputs": [],
   "source": [
    "# 创建优化问题\n",
    "prob = pulp.LpProblem(\"Maximize_Affinity\", pulp.LpMaximize)\n",
    "\n",
    "# 决策变量\n",
    "x = pulp.LpVariable.dicts(\"x\", ((i, j) for i in range(1, 17) for j in range(1, 10)), cat='Binary')\n",
    "y = pulp.LpVariable.dicts(\"y\", (j for j in range(1, 10)), cat='Binary')  # 是否使用某个加工窖的变量"
   ]
  },
  {
   "cell_type": "code",
   "execution_count": 5,
   "id": "9103bc9e169189c3",
   "metadata": {
    "ExecuteTime": {
     "end_time": "2024-06-15T09:21:52.476004Z",
     "start_time": "2024-06-15T09:21:52.441793Z"
    }
   },
   "outputs": [
    {
     "name": "stdout",
     "output_type": "stream",
     "text": [
      "Welcome to the CBC MILP Solver \n",
      "Version: 2.10.3 \n",
      "Build Date: Dec 15 2019 \n",
      "\n",
      "command line - /Users/yooky/anaconda3/lib/python3.11/site-packages/pulp/solverdir/cbc/osx/64/cbc /var/folders/ng/h1_4zcsj2qq895j6xpxvjyqh0000gn/T/73dc9eeac2e04015b68c86540c9e3003-pulp.mps -max -timeMode elapsed -branch -printingOptions all -solution /var/folders/ng/h1_4zcsj2qq895j6xpxvjyqh0000gn/T/73dc9eeac2e04015b68c86540c9e3003-pulp.sol (default strategy 1)\n",
      "At line 2 NAME          MODEL\n",
      "At line 3 ROWS\n",
      "At line 66 COLUMNS\n",
      "At line 1264 RHS\n",
      "At line 1326 BOUNDS\n",
      "At line 1480 ENDATA\n",
      "Problem MODEL has 61 rows, 153 columns and 747 elements\n",
      "Coin0008I MODEL read with 0 errors\n",
      "Option for timeMode changed from cpu to elapsed\n",
      "Problem is infeasible - 0.00 seconds\n",
      "Option for printingOptions changed from normal to all\n",
      "Total time (CPU seconds):       0.00   (Wallclock seconds):       0.00\n"
     ]
    },
    {
     "data": {
      "text/plain": [
       "-1"
      ]
     },
     "execution_count": 5,
     "metadata": {},
     "output_type": "execute_result"
    }
   ],
   "source": [
    "# 目标函数：最大化加权亲缘度\n",
    "prob += pulp.lpSum(affinity_matrix[i-1][k-1] * (x[i, j] + x[k, j] - 1) * weights[i-1] for i in range(1, 17) for j in range(1, 10) for k in range(i+1, 17))\n",
    "\n",
    "# 约束条件\n",
    "# 1. 每种原料必须分配到一个加工窖中\n",
    "for i in range(1, 17):\n",
    "    prob += pulp.lpSum(x[i, j] for j in range(1, 10)) == 1\n",
    "\n",
    "# 2. 每个加工窖的重量必须在限定范围内\n",
    "for j in range(1, 10):\n",
    "    prob += pulp.lpSum(x[i, j] * weights[i-1] for i in range(1, 17)) <= silos[j-1][\"max_weight\"]\n",
    "    prob += pulp.lpSum(x[i, j] * weights[i-1] for i in range(1, 17)) >= silos[j-1][\"min_weight\"]\n",
    "\n",
    "# 3. 不能将品种代码为10的原料单独放入一个加工包\n",
    "for j in range(1, 10):\n",
    "    prob += x[10, j] + pulp.lpSum(x[i, j] for i in range(1, 17) if i != 10) >= 2 * y[j]\n",
    "\n",
    "# 4. 每个加工窖必须被使用\n",
    "for j in range(1, 10):\n",
    "    prob += pulp.lpSum(x[i, j] for i in range(1, 17)) >= y[j]\n",
    "    prob += y[j] == 1\n",
    "\n",
    "# 求解问题\n",
    "prob.solve()"
   ]
  },
  {
   "cell_type": "code",
   "execution_count": 6,
   "id": "ad293d555c734e5b",
   "metadata": {
    "ExecuteTime": {
     "end_time": "2024-06-15T09:21:52.481754Z",
     "start_time": "2024-06-15T09:21:52.477569Z"
    }
   },
   "outputs": [
    {
     "name": "stdout",
     "output_type": "stream",
     "text": [
      "加工窖 1: 原料 [3, 15], 亲缘值 0.00, 重量 500\n",
      "加工窖 2: 原料 [1, 3, 11], 亲缘值 0.00, 重量 600\n",
      "加工窖 3: 原料 [6, 16], 亲缘值 0.00, 重量 700\n",
      "加工窖 4: 原料 [2, 8, 9], 亲缘值 1.33, 重量 1200\n",
      "加工窖 5: 原料 [3, 4], 亲缘值 5.00, 重量 700\n",
      "加工窖 6: 原料 [5, 8], 亲缘值 0.00, 重量 600\n",
      "加工窖 7: 原料 [13, 14], 亲缘值 5.00, 重量 900\n",
      "加工窖 8: 原料 [7], 亲缘值 10.00, 重量 300\n",
      "加工窖 9: 原料 [12], 亲缘值 10.00, 重量 600\n",
      "总加权亲缘值: 3.05\n"
     ]
    }
   ],
   "source": [
    "# 输出结果\n",
    "solution = {}\n",
    "total_weighted_affinity = 0\n",
    "total_weight = 0\n",
    "for j in range(1, 10):\n",
    "    solution[j] = [i for i in range(1, 17) if pulp.value(x[i, j]) == 1]\n",
    "    silo_weight = sum(weights[i-1] for i in solution[j])\n",
    "    total_weight += silo_weight\n",
    "    if len(solution[j]) > 1:\n",
    "        silo_affinity = sum(affinity_matrix[i-1][k-1] for i in solution[j] for k in solution[j] if i < k) / (len(solution[j]) * (len(solution[j]) - 1) / 2)\n",
    "    else:\n",
    "        silo_affinity = 10\n",
    "    total_weighted_affinity += silo_affinity * silo_weight\n",
    "    print(f\"加工窖 {j}: 原料 {solution[j]}, 亲缘值 {silo_affinity:.2f}, 重量 {silo_weight}\")\n",
    "\n",
    "# 计算加权总亲缘值\n",
    "weighted_affinity = total_weighted_affinity / total_weight\n",
    "print(f\"总加权亲缘值: {weighted_affinity:.2f}\")"
   ]
  },
  {
   "cell_type": "code",
   "execution_count": 7,
   "id": "7e95e3b5ea6d3e72",
   "metadata": {
    "ExecuteTime": {
     "end_time": "2024-06-15T09:21:52.759989Z",
     "start_time": "2024-06-15T09:21:52.482391Z"
    }
   },
   "outputs": [
    {
     "data": {
      "image/png": "[encoded data removed]",
      "text/plain": [
       "<Figure size 1000x600 with 1 Axes>"
      ]
     },
     "metadata": {},
     "output_type": "display_data"
    }
   ],
   "source": [
    "import numpy as np\n",
    "import pandas as pd\n",
    "import matplotlib.pyplot as plt\n",
    "import seaborn as sns\n",
    "from matplotlib.font_manager import FontProperties\n",
    "\n",
    "font_path = '/System/Library/Fonts/PingFang.ttc'\n",
    "my_font = FontProperties(fname=font_path)\n",
    "\n",
    "# 加工窖数据\n",
    "silos_data = {\n",
    "    1: {\"raw_materials\": [3, 15], \"affinity\": 0.00, \"weight\": 500},\n",
    "    2: {\"raw_materials\": [1, 3, 11], \"affinity\": 0.00, \"weight\": 600},\n",
    "    3: {\"raw_materials\": [6, 16], \"affinity\": 0.00, \"weight\": 700},\n",
    "    4: {\"raw_materials\": [2, 8, 9], \"affinity\": 1.33, \"weight\": 1200},\n",
    "    5: {\"raw_materials\": [3, 4], \"affinity\": 5.00, \"weight\": 700},\n",
    "    6: {\"raw_materials\": [5, 8], \"affinity\": 0.00, \"weight\": 600},\n",
    "    7: {\"raw_materials\": [13, 14], \"affinity\": 5.00, \"weight\": 900},\n",
    "    8: {\"raw_materials\": [7], \"affinity\": 10.00, \"weight\": 300},\n",
    "    9: {\"raw_materials\": [12], \"affinity\": 10.00, \"weight\": 600}\n",
    "}\n",
    "\n",
    "# 原料重量数据\n",
    "weights = [300, 500, 200, 500, 300, 400, 300, 300, 400, 600, 100, 600, 500, 400, 300, 300]\n",
    "\n",
    "# 数据处理\n",
    "raw_materials_data = np.zeros((16, 9))\n",
    "affinity_values = []\n",
    "weight_values = []\n",
    "\n",
    "for silo_id, silo_info in silos_data.items():\n",
    "    for raw_material in silo_info[\"raw_materials\"]:\n",
    "        raw_materials_data[raw_material - 1, silo_id - 1] = weights[raw_material - 1]\n",
    "    affinity_values.append(silo_info[\"affinity\"])\n",
    "    weight_values.append(silo_info[\"weight\"])\n",
    "\n",
    "# 转换为DataFrame\n",
    "raw_materials_df = pd.DataFrame(raw_materials_data, columns=[f\"加工窖{silo_id}\" for silo_id in range(1, 10)], index=[f\"原料{i+1}\" for i in range(16)])\n",
    "\n",
    "# 绘制每个加工窖的重量条形图\n",
    "plt.figure(figsize=(10, 6))\n",
    "plt.bar(range(1, 10), weight_values, color='skyblue', edgecolor='black')\n",
    "plt.title('每个加工窖的重量', fontproperties=my_font)\n",
    "plt.xlabel('加工窖', fontproperties=my_font)\n",
    "plt.ylabel('重量 (kg)', fontproperties=my_font)\n",
    "plt.xticks(range(1, 10), [f\"加工窖{silo_id}\" for silo_id in range(1, 10)], fontproperties=my_font)\n",
    "plt.yticks(fontproperties=my_font)\n",
    "plt.show()"
   ]
  }
 ],
 "metadata": {
  "kernelspec": {
   "display_name": "Python 3 (ipykernel)",
   "language": "python",
   "name": "python3"
  },
  "language_info": {
   "codemirror_mode": {
    "name": "ipython",
    "version": 3
   },
   "file_extension": ".py",
   "mimetype": "text/x-python",
   "name": "python",
   "nbconvert_exporter": "python",
   "pygments_lexer": "ipython3",
   "version": "3.11.8"
  }
 },
 "nbformat": 4,
 "nbformat_minor": 5
}
